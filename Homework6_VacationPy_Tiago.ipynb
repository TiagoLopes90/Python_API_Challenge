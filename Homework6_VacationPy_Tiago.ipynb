{
 "cells": [
  {
   "cell_type": "markdown",
   "metadata": {},
   "source": [
    "# VacationPy\n",
    "----\n",
    "\n",
    "#### Note\n",
    "* Instructions have been included for each segment. You do not have to follow them exactly, but they are included to help you think through the steps."
   ]
  },
  {
   "cell_type": "code",
   "execution_count": 1,
   "metadata": {},
   "outputs": [],
   "source": [
    "# Dependencies and Setup\n",
    "import matplotlib.pyplot as plt\n",
    "import pandas as pd\n",
    "import numpy as np\n",
    "import requests\n",
    "import gmaps\n",
    "import os\n",
    "\n",
    "# Import API key\n",
    "from google_key import api_key"
   ]
  },
  {
   "cell_type": "markdown",
   "metadata": {},
   "source": [
    "### Store Part I results into DataFrame\n",
    "* Load the csv exported in Part I to a DataFrame"
   ]
  },
  {
   "cell_type": "code",
   "execution_count": 2,
   "metadata": {},
   "outputs": [
    {
     "data": {
      "text/html": [
       "<div>\n",
       "<style scoped>\n",
       "    .dataframe tbody tr th:only-of-type {\n",
       "        vertical-align: middle;\n",
       "    }\n",
       "\n",
       "    .dataframe tbody tr th {\n",
       "        vertical-align: top;\n",
       "    }\n",
       "\n",
       "    .dataframe thead th {\n",
       "        text-align: right;\n",
       "    }\n",
       "</style>\n",
       "<table border=\"1\" class=\"dataframe\">\n",
       "  <thead>\n",
       "    <tr style=\"text-align: right;\">\n",
       "      <th></th>\n",
       "      <th>Lat</th>\n",
       "      <th>Lng</th>\n",
       "      <th>Max Temperature (F)</th>\n",
       "      <th>Humidity</th>\n",
       "      <th>Cloudiness</th>\n",
       "      <th>Wind Speed</th>\n",
       "    </tr>\n",
       "  </thead>\n",
       "  <tbody>\n",
       "    <tr>\n",
       "      <th>count</th>\n",
       "      <td>576.000000</td>\n",
       "      <td>576.000000</td>\n",
       "      <td>576.000000</td>\n",
       "      <td>576.000000</td>\n",
       "      <td>576.000000</td>\n",
       "      <td>576.000000</td>\n",
       "    </tr>\n",
       "    <tr>\n",
       "      <th>mean</th>\n",
       "      <td>18.643385</td>\n",
       "      <td>19.303316</td>\n",
       "      <td>68.200990</td>\n",
       "      <td>67.329861</td>\n",
       "      <td>51.196181</td>\n",
       "      <td>8.133403</td>\n",
       "    </tr>\n",
       "    <tr>\n",
       "      <th>std</th>\n",
       "      <td>32.824753</td>\n",
       "      <td>91.011749</td>\n",
       "      <td>15.337732</td>\n",
       "      <td>20.045137</td>\n",
       "      <td>36.372489</td>\n",
       "      <td>5.615715</td>\n",
       "    </tr>\n",
       "    <tr>\n",
       "      <th>min</th>\n",
       "      <td>-54.800000</td>\n",
       "      <td>-179.170000</td>\n",
       "      <td>31.440000</td>\n",
       "      <td>10.000000</td>\n",
       "      <td>0.000000</td>\n",
       "      <td>0.250000</td>\n",
       "    </tr>\n",
       "    <tr>\n",
       "      <th>25%</th>\n",
       "      <td>-7.915000</td>\n",
       "      <td>-61.267500</td>\n",
       "      <td>57.000000</td>\n",
       "      <td>54.000000</td>\n",
       "      <td>19.750000</td>\n",
       "      <td>3.800000</td>\n",
       "    </tr>\n",
       "    <tr>\n",
       "      <th>50%</th>\n",
       "      <td>21.090000</td>\n",
       "      <td>24.700000</td>\n",
       "      <td>69.800000</td>\n",
       "      <td>70.000000</td>\n",
       "      <td>51.000000</td>\n",
       "      <td>6.930000</td>\n",
       "    </tr>\n",
       "    <tr>\n",
       "      <th>75%</th>\n",
       "      <td>45.380000</td>\n",
       "      <td>100.342500</td>\n",
       "      <td>80.160000</td>\n",
       "      <td>83.000000</td>\n",
       "      <td>87.000000</td>\n",
       "      <td>11.410000</td>\n",
       "    </tr>\n",
       "    <tr>\n",
       "      <th>max</th>\n",
       "      <td>78.220000</td>\n",
       "      <td>177.480000</td>\n",
       "      <td>107.460000</td>\n",
       "      <td>100.000000</td>\n",
       "      <td>100.000000</td>\n",
       "      <td>36.910000</td>\n",
       "    </tr>\n",
       "  </tbody>\n",
       "</table>\n",
       "</div>"
      ],
      "text/plain": [
       "              Lat         Lng  Max Temperature (F)    Humidity  Cloudiness  \\\n",
       "count  576.000000  576.000000           576.000000  576.000000  576.000000   \n",
       "mean    18.643385   19.303316            68.200990   67.329861   51.196181   \n",
       "std     32.824753   91.011749            15.337732   20.045137   36.372489   \n",
       "min    -54.800000 -179.170000            31.440000   10.000000    0.000000   \n",
       "25%     -7.915000  -61.267500            57.000000   54.000000   19.750000   \n",
       "50%     21.090000   24.700000            69.800000   70.000000   51.000000   \n",
       "75%     45.380000  100.342500            80.160000   83.000000   87.000000   \n",
       "max     78.220000  177.480000           107.460000  100.000000  100.000000   \n",
       "\n",
       "       Wind Speed  \n",
       "count  576.000000  \n",
       "mean     8.133403  \n",
       "std      5.615715  \n",
       "min      0.250000  \n",
       "25%      3.800000  \n",
       "50%      6.930000  \n",
       "75%     11.410000  \n",
       "max     36.910000  "
      ]
     },
     "execution_count": 2,
     "metadata": {},
     "output_type": "execute_result"
    }
   ],
   "source": [
    "weather_df = pd.read_csv(\"Output/weather_csv.csv\")\n",
    "weather_df.describe()"
   ]
  },
  {
   "cell_type": "markdown",
   "metadata": {},
   "source": [
    "### Humidity Heatmap\n",
    "* Configure gmaps.\n",
    "* Use the Lat and Lng as locations and Humidity as the weight.\n",
    "* Add Heatmap layer to map."
   ]
  },
  {
   "cell_type": "code",
   "execution_count": 3,
   "metadata": {},
   "outputs": [],
   "source": [
    "# Store latitude and longitude in locations\n",
    "locations = weather_df[[\"Lat\", \"Lng\"]]\n",
    "\n",
    "# Fill NaN values and convert to float\n",
    "humidity = weather_df[\"Humidity\"]"
   ]
  },
  {
   "cell_type": "code",
   "execution_count": 4,
   "metadata": {},
   "outputs": [
    {
     "data": {
      "application/vnd.jupyter.widget-view+json": {
       "model_id": "cf52f7abdc2f4667bd1ce1b4a99cfa38",
       "version_major": 2,
       "version_minor": 0
      },
      "text/plain": [
       "Figure(layout=FigureLayout(height='420px'))"
      ]
     },
     "metadata": {},
     "output_type": "display_data"
    }
   ],
   "source": [
    "# Configure gmaps\n",
    "gmaps.configure(api_key=api_key)\n",
    "\n",
    "# Plot Heatmap\n",
    "fig = gmaps.figure()\n",
    "\n",
    "# Create heat layer\n",
    "humidity_layer = gmaps.heatmap_layer(locations, weights=humidity, \n",
    "                                     max_intensity=max(humidity),\n",
    "                                     dissipating=True,\n",
    "                                    point_radius = 15)\n",
    "\n",
    "\n",
    "# Add layer\n",
    "fig.add_layer(humidity_layer)\n",
    "\n",
    "# Display figure\n",
    "fig"
   ]
  },
  {
   "cell_type": "markdown",
   "metadata": {},
   "source": [
    "### Create new DataFrame fitting weather criteria\n",
    "* Narrow down the cities to fit weather conditions.\n",
    "* Drop any rows will null values."
   ]
  },
  {
   "cell_type": "code",
   "execution_count": 5,
   "metadata": {},
   "outputs": [
    {
     "name": "stdout",
     "output_type": "stream",
     "text": [
      "<class 'pandas.core.frame.DataFrame'>\n",
      "Int64Index: 7 entries, 228 to 521\n",
      "Data columns (total 8 columns):\n",
      " #   Column               Non-Null Count  Dtype  \n",
      "---  ------               --------------  -----  \n",
      " 0   City                 7 non-null      object \n",
      " 1   Lat                  7 non-null      float64\n",
      " 2   Lng                  7 non-null      float64\n",
      " 3   Max Temperature (F)  7 non-null      float64\n",
      " 4   Humidity             7 non-null      int64  \n",
      " 5   Cloudiness           7 non-null      int64  \n",
      " 6   Wind Speed           7 non-null      float64\n",
      " 7   Country              7 non-null      object \n",
      "dtypes: float64(4), int64(2), object(2)\n",
      "memory usage: 504.0+ bytes\n"
     ]
    }
   ],
   "source": [
    "better_conditions_df = weather_df[(weather_df[\"Max Temperature (F)\"]>=70) & \n",
    "                                  (weather_df[\"Max Temperature (F)\"]<=80) &\n",
    "                                 (weather_df[\"Wind Speed\"]<=10) &\n",
    "                                 (weather_df[\"Cloudiness\"]==0)]\n",
    "better_conditions_df.info()"
   ]
  },
  {
   "cell_type": "markdown",
   "metadata": {},
   "source": [
    "### Hotel Map\n",
    "* Store into variable named `hotel_df`.\n",
    "* Add a \"Hotel Name\" column to the DataFrame.\n",
    "* Set parameters to search for hotels with 5000 meters.\n",
    "* Hit the Google Places API for each city's coordinates.\n",
    "* Store the first Hotel result into the DataFrame.\n",
    "* Plot markers on top of the heatmap."
   ]
  },
  {
   "cell_type": "code",
   "execution_count": 42,
   "metadata": {},
   "outputs": [
    {
     "name": "stdout",
     "output_type": "stream",
     "text": [
      "32.69,128.84\n",
      "-13.2,49.05\n",
      "41.18,29.61\n",
      "-9.35,28.73\n",
      "45.97,42.7\n",
      "-8.42,20.74\n",
      "31.61,34.76\n"
     ]
    }
   ],
   "source": [
    "# geocoordinates\n",
    "target_coordinates = better_conditions_df[[\"Lat\", \"Lng\"]]\n",
    "target_coordinates = target_coordinates.values.tolist()\n",
    "target_search = \"hotel\"\n",
    "target_radius = 5000\n",
    "target_type = \"hotel\"\n",
    "\n",
    "hotel_name=[]\n",
    "\n",
    "# base url\n",
    "base_url = \"https://maps.googleapis.com/maps/api/place/nearbysearch/json\"\n",
    "\n",
    "for coordinates in target_coordinates:\n",
    "    coord = f\"{coordinates[0]},{coordinates[1]}\"\n",
    "    # set up a parameters dictionary\n",
    "    params = {\n",
    "        \"location\": coord,\n",
    "        \"keyword\": target_search,\n",
    "        \"radius\": target_radius,\n",
    "        \"type\": target_type,\n",
    "        \"key\": api_key}\n",
    "    # run a request using our params dictionary\n",
    "    try:\n",
    "        response = requests.get(base_url, params=params).json()\n",
    "        hotel_name.append(response[\"results\"][0][\"name\"])\n",
    "    except:\n",
    "        hotel_name.append(\"Hotel Not Found\")"
   ]
  },
  {
   "cell_type": "code",
   "execution_count": 44,
   "metadata": {},
   "outputs": [
    {
     "name": "stderr",
     "output_type": "stream",
     "text": [
      "/Users/tiagolopes/opt/anaconda3/envs/LearnPython/lib/python3.7/site-packages/ipykernel_launcher.py:2: SettingWithCopyWarning: \n",
      "A value is trying to be set on a copy of a slice from a DataFrame.\n",
      "Try using .loc[row_indexer,col_indexer] = value instead\n",
      "\n",
      "See the caveats in the documentation: https://pandas.pydata.org/pandas-docs/stable/user_guide/indexing.html#returning-a-view-versus-a-copy\n",
      "  \n"
     ]
    },
    {
     "data": {
      "text/html": [
       "<div>\n",
       "<style scoped>\n",
       "    .dataframe tbody tr th:only-of-type {\n",
       "        vertical-align: middle;\n",
       "    }\n",
       "\n",
       "    .dataframe tbody tr th {\n",
       "        vertical-align: top;\n",
       "    }\n",
       "\n",
       "    .dataframe thead th {\n",
       "        text-align: right;\n",
       "    }\n",
       "</style>\n",
       "<table border=\"1\" class=\"dataframe\">\n",
       "  <thead>\n",
       "    <tr style=\"text-align: right;\">\n",
       "      <th></th>\n",
       "      <th>City</th>\n",
       "      <th>Lat</th>\n",
       "      <th>Lng</th>\n",
       "      <th>Max Temperature (F)</th>\n",
       "      <th>Humidity</th>\n",
       "      <th>Cloudiness</th>\n",
       "      <th>Wind Speed</th>\n",
       "      <th>Country</th>\n",
       "      <th>Hotel Name</th>\n",
       "    </tr>\n",
       "  </thead>\n",
       "  <tbody>\n",
       "    <tr>\n",
       "      <th>228</th>\n",
       "      <td>fukue</td>\n",
       "      <td>32.69</td>\n",
       "      <td>128.84</td>\n",
       "      <td>71.04</td>\n",
       "      <td>74</td>\n",
       "      <td>0</td>\n",
       "      <td>6.11</td>\n",
       "      <td>JP</td>\n",
       "      <td>SERENDIP HOTEL GOTO</td>\n",
       "    </tr>\n",
       "    <tr>\n",
       "      <th>236</th>\n",
       "      <td>ambilobe</td>\n",
       "      <td>-13.20</td>\n",
       "      <td>49.05</td>\n",
       "      <td>70.29</td>\n",
       "      <td>69</td>\n",
       "      <td>0</td>\n",
       "      <td>4.90</td>\n",
       "      <td>MG</td>\n",
       "      <td>Hotel National</td>\n",
       "    </tr>\n",
       "    <tr>\n",
       "      <th>292</th>\n",
       "      <td>sile</td>\n",
       "      <td>41.18</td>\n",
       "      <td>29.61</td>\n",
       "      <td>73.00</td>\n",
       "      <td>66</td>\n",
       "      <td>0</td>\n",
       "      <td>1.01</td>\n",
       "      <td>TR</td>\n",
       "      <td>The Sign Sile Hotel &amp; Spa</td>\n",
       "    </tr>\n",
       "    <tr>\n",
       "      <th>421</th>\n",
       "      <td>nchelenge</td>\n",
       "      <td>-9.35</td>\n",
       "      <td>28.73</td>\n",
       "      <td>71.24</td>\n",
       "      <td>60</td>\n",
       "      <td>0</td>\n",
       "      <td>2.01</td>\n",
       "      <td>ZM</td>\n",
       "      <td>CM Guest house</td>\n",
       "    </tr>\n",
       "    <tr>\n",
       "      <th>459</th>\n",
       "      <td>bolshaya dzhalga</td>\n",
       "      <td>45.97</td>\n",
       "      <td>42.70</td>\n",
       "      <td>70.47</td>\n",
       "      <td>51</td>\n",
       "      <td>0</td>\n",
       "      <td>6.53</td>\n",
       "      <td>RU</td>\n",
       "      <td>Hotel Not Found</td>\n",
       "    </tr>\n",
       "  </tbody>\n",
       "</table>\n",
       "</div>"
      ],
      "text/plain": [
       "                 City    Lat     Lng  Max Temperature (F)  Humidity  \\\n",
       "228             fukue  32.69  128.84                71.04        74   \n",
       "236          ambilobe -13.20   49.05                70.29        69   \n",
       "292              sile  41.18   29.61                73.00        66   \n",
       "421         nchelenge  -9.35   28.73                71.24        60   \n",
       "459  bolshaya dzhalga  45.97   42.70                70.47        51   \n",
       "\n",
       "     Cloudiness  Wind Speed Country                 Hotel Name  \n",
       "228           0        6.11      JP        SERENDIP HOTEL GOTO  \n",
       "236           0        4.90      MG             Hotel National  \n",
       "292           0        1.01      TR  The Sign Sile Hotel & Spa  \n",
       "421           0        2.01      ZM             CM Guest house  \n",
       "459           0        6.53      RU            Hotel Not Found  "
      ]
     },
     "execution_count": 44,
     "metadata": {},
     "output_type": "execute_result"
    }
   ],
   "source": [
    "hotel_df=better_conditions_df\n",
    "hotel_df[\"Hotel Name\"] = hotel_name\n",
    "hotel_df.head()"
   ]
  },
  {
   "cell_type": "code",
   "execution_count": 45,
   "metadata": {},
   "outputs": [],
   "source": [
    "# NOTE: Do not change any of the code in this cell\n",
    "\n",
    "# Using the template add the hotel marks to the heatmap\n",
    "info_box_template = \"\"\"\n",
    "<dl>\n",
    "<dt>Name</dt><dd>{Hotel Name}</dd>\n",
    "<dt>City</dt><dd>{City}</dd>\n",
    "<dt>Country</dt><dd>{Country}</dd>\n",
    "</dl>\n",
    "\"\"\"\n",
    "# Store the DataFrame Row\n",
    "# NOTE: be sure to update with your DataFrame name\n",
    "hotel_info = [info_box_template.format(**row) for index, row in hotel_df.iterrows()]\n",
    "locations = hotel_df[[\"Lat\", \"Lng\"]]"
   ]
  },
  {
   "cell_type": "code",
   "execution_count": 47,
   "metadata": {},
   "outputs": [
    {
     "data": {
      "application/vnd.jupyter.widget-view+json": {
       "model_id": "cf52f7abdc2f4667bd1ce1b4a99cfa38",
       "version_major": 2,
       "version_minor": 0
      },
      "text/plain": [
       "Figure(layout=FigureLayout(height='420px'))"
      ]
     },
     "metadata": {},
     "output_type": "display_data"
    }
   ],
   "source": [
    "# Add marker layer ontop of heat map\n",
    "markers = gmaps.marker_layer(locations,info_box_content=hotel_info)\n",
    "fig.add_layer(markers)\n",
    "# Display figure\n",
    "fig"
   ]
  },
  {
   "cell_type": "code",
   "execution_count": null,
   "metadata": {},
   "outputs": [],
   "source": []
  }
 ],
 "metadata": {
  "kernelspec": {
   "display_name": "Python [conda env:LearnPython] *",
   "language": "python",
   "name": "conda-env-LearnPython-py"
  },
  "language_info": {
   "codemirror_mode": {
    "name": "ipython",
    "version": 3
   },
   "file_extension": ".py",
   "mimetype": "text/x-python",
   "name": "python",
   "nbconvert_exporter": "python",
   "pygments_lexer": "ipython3",
   "version": "3.7.7"
  },
  "latex_envs": {
   "LaTeX_envs_menu_present": true,
   "autoclose": false,
   "autocomplete": true,
   "bibliofile": "biblio.bib",
   "cite_by": "apalike",
   "current_citInitial": 1,
   "eqLabelWithNumbers": true,
   "eqNumInitial": 1,
   "hotkeys": {
    "equation": "Ctrl-E",
    "itemize": "Ctrl-I"
   },
   "labels_anchors": false,
   "latex_user_defs": false,
   "report_style_numbering": false,
   "user_envs_cfg": false
  }
 },
 "nbformat": 4,
 "nbformat_minor": 2
}
